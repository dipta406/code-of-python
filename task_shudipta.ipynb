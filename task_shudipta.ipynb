{
 "cells": [
  {
   "cell_type": "code",
   "execution_count": null,
   "metadata": {},
   "outputs": [],
   "source": []
  },
  {
   "cell_type": "markdown",
   "metadata": {},
   "source": [
    "Basic Calculator"
   ]
  },
  {
   "cell_type": "code",
   "execution_count": 2,
   "metadata": {},
   "outputs": [
    {
     "name": "stdout",
     "output_type": "stream",
     "text": [
      "110\n",
      "0\n",
      "3025\n",
      "1.0\n"
     ]
    }
   ],
   "source": [
    "num1 = int(input(\"Enter your 1st number :\"))\n",
    "num2 = int(input(\"Enter your 2nd number :\"))\n",
    "addition = num1 + num2\n",
    "substraction = num1 - num2\n",
    "multipy = num1 * num2\n",
    "divison = num1 / num2\n",
    "square = num1 ** num2\n",
    "modelus = num1 % num2\n",
    "print(addition)\n",
    "print(substraction)\n",
    "print(multipy)\n",
    "print(divison)\n",
    " "
   ]
  },
  {
   "cell_type": "markdown",
   "metadata": {},
   "source": [
    "Grading system\n"
   ]
  },
  {
   "cell_type": "markdown",
   "metadata": {},
   "source": []
  },
  {
   "cell_type": "code",
   "execution_count": 1,
   "metadata": {},
   "outputs": [
    {
     "name": "stdout",
     "output_type": "stream",
     "text": [
      "A\n"
     ]
    }
   ],
   "source": [
    "Bangla = int(input(\"enter number of Bangla\"))\n",
    "English = int(input(\"Enter number of English\"))\n",
    "Mathematics = int(input(\"Enter number of Mathematics\"))\n",
    "SocialScience= int(input(\"Enter number of SocialScience\"))\n",
    "Science = int(input(\"Enter number of Science \"))\n",
    "religion = int(input(\"Enter number of religion \"))\n",
    "num = (Bangla + English + Mathematics + SocialScience + Science + religion)/6\n",
    "if num>=90 :\n",
    "    print('AA' )\n",
    "elif num>=80:\n",
    "    print('A+')\n",
    "elif num>=60:\n",
    "    print('A')\n",
    "elif num>=45:\n",
    "    print('B')\n",
    "elif num>=30:\n",
    "    print('c')\n",
    "else :\n",
    "    print('F')"
   ]
  },
  {
   "cell_type": "markdown",
   "metadata": {},
   "source": [
    "Smart Door"
   ]
  },
  {
   "cell_type": "code",
   "execution_count": 17,
   "metadata": {},
   "outputs": [
    {
     "name": "stdout",
     "output_type": "stream",
     "text": [
      "given password is incorrect, please try again\n",
      "given password is incorrect, please try again\n",
      "given password is incorrect, please try again\n",
      "door is locked,plase wait 5s\n",
      "door is opening>>>\n"
     ]
    }
   ],
   "source": [
    "import time\n",
    "originalpassword = 123456\n",
    "maxtry = 0\n",
    "while True :\n",
    "    input_password = int(input('Enter the password'))\n",
    "    maxtry +=1\n",
    "    if originalpassword == input_password:\n",
    "        print('door is opening>>>')\n",
    "        break\n",
    "    else:\n",
    "        print('given password is incorrect, please try again')\n",
    "        if  maxtry == 3:\n",
    "            print('door is locked,plase wait 5s')\n",
    "            time.sleep(5)\n"
   ]
  },
  {
   "cell_type": "code",
   "execution_count": null,
   "metadata": {},
   "outputs": [],
   "source": []
  },
  {
   "cell_type": "code",
   "execution_count": 7,
   "metadata": {},
   "outputs": [
    {
     "name": "stdout",
     "output_type": "stream",
     "text": [
      "door is opening>>>\n"
     ]
    }
   ],
   "source": [
    " "
   ]
  },
  {
   "cell_type": "code",
   "execution_count": null,
   "metadata": {},
   "outputs": [],
   "source": [
    " "
   ]
  }
 ],
 "metadata": {
  "kernelspec": {
   "display_name": "Python 3.10.5 64-bit",
   "language": "python",
   "name": "python3"
  },
  "language_info": {
   "codemirror_mode": {
    "name": "ipython",
    "version": 3
   },
   "file_extension": ".py",
   "mimetype": "text/x-python",
   "name": "python",
   "nbconvert_exporter": "python",
   "pygments_lexer": "ipython3",
   "version": "3.10.5"
  },
  "orig_nbformat": 4,
  "vscode": {
   "interpreter": {
    "hash": "f21587d368d57783ce1c2a5d36502ca4688577d8817fcf40fa7875038dbc5cc4"
   }
  }
 },
 "nbformat": 4,
 "nbformat_minor": 2
}
