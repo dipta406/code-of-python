{
 "cells": [
  {
   "cell_type": "markdown",
   "metadata": {},
   "source": []
  },
  {
   "cell_type": "code",
   "execution_count": null,
   "metadata": {},
   "outputs": [],
   "source": [
    "name = input(\"Enter your Name: \")\n",
    "print(\"Greetings !\", name)"
   ]
  },
  {
   "cell_type": "code",
   "execution_count": null,
   "metadata": {},
   "outputs": [],
   "source": [
    "import keyword\n",
    "keyword.kwlist\n",
    "\n"
   ]
  },
  {
   "cell_type": "markdown",
   "metadata": {},
   "source": [
    "## variables"
   ]
  },
  {
   "cell_type": "code",
   "execution_count": 3,
   "metadata": {},
   "outputs": [
    {
     "ename": "TypeError",
     "evalue": "center expected at least 1 argument, got 0",
     "output_type": "error",
     "traceback": [
      "\u001b[1;31m---------------------------------------------------------------------------\u001b[0m",
      "\u001b[1;31mTypeError\u001b[0m                                 Traceback (most recent call last)",
      "\u001b[1;32me:\\new python\\code-of-python\\programme.ipynb Cell 5'\u001b[0m in \u001b[0;36m<cell line: 2>\u001b[1;34m()\u001b[0m\n\u001b[0;32m      <a href='vscode-notebook-cell:/e%3A/new%20python/code-of-python/programme.ipynb#ch0000006?line=0'>1</a>\u001b[0m b \u001b[39m=\u001b[39m \u001b[39m'\u001b[39m\u001b[39msome\u001b[39m\u001b[39m'\u001b[39m\n\u001b[1;32m----> <a href='vscode-notebook-cell:/e%3A/new%20python/code-of-python/programme.ipynb#ch0000006?line=1'>2</a>\u001b[0m b\u001b[39m.\u001b[39;49mcenter()\n",
      "\u001b[1;31mTypeError\u001b[0m: center expected at least 1 argument, got 0"
     ]
    }
   ],
   "source": [
    "b = 'some'\n",
    "b.center()"
   ]
  },
  {
   "cell_type": "code",
   "execution_count": 16,
   "metadata": {},
   "outputs": [
    {
     "data": {
      "text/plain": [
       "'dept'"
      ]
     },
     "execution_count": 16,
     "metadata": {},
     "output_type": "execute_result"
    }
   ],
   "source": [
    "a='dip'\n",
    "type(a)\n",
    "p=a + 't' + 'a'\n",
    "p * 3\n",
    "a.replace('i','e') + 't'"
   ]
  },
  {
   "cell_type": "code",
   "execution_count": 23,
   "metadata": {},
   "outputs": [
    {
     "data": {
      "text/plain": [
       "int"
      ]
     },
     "execution_count": 23,
     "metadata": {},
     "output_type": "execute_result"
    }
   ],
   "source": [
    "age = 24 + 56\n",
    "type(age)\n",
    " "
   ]
  },
  {
   "cell_type": "code",
   "execution_count": 15,
   "metadata": {},
   "outputs": [
    {
     "name": "stdout",
     "output_type": "stream",
     "text": [
      "<class 'str'>\n",
      "True\n"
     ]
    },
    {
     "data": {
      "text/plain": [
       "'(2+0j)'"
      ]
     },
     "execution_count": 15,
     "metadata": {},
     "output_type": "execute_result"
    }
   ],
   "source": [
    "n= '2'\n",
    "print(type(n))\n",
    "newn = int(n)\n",
    "type(newn)\n",
    "fn = float(newn)\n",
    "fn\n",
    "bn = bool(fn)\n",
    "print (bn)\n",
    "bool (' ')\n",
    "\n",
    "c= complex(2)\n",
    "str(c)"
   ]
  },
  {
   "cell_type": "code",
   "execution_count": 10,
   "metadata": {},
   "outputs": [
    {
     "name": "stdout",
     "output_type": "stream",
     "text": [
      "shudipta  YOUR ACOOUNT CREATED SUCCESSFULLY!\n"
     ]
    },
    {
     "data": {
      "text/plain": [
       "(int, float)"
      ]
     },
     "execution_count": 10,
     "metadata": {},
     "output_type": "execute_result"
    }
   ],
   "source": [
    "name = input(\"Enter your Name:\")\n",
    "age = int(input(\"Enter Your age:\"))\n",
    "weight = float(input(\"Enter your weight:\"))\n",
    "print(name ,\"YOUR ACOOUNT CREATED SUCCESSFULLY!\")\n",
    "type(age), type(weight)"
   ]
  },
  {
   "cell_type": "code",
   "execution_count": 23,
   "metadata": {},
   "outputs": [
    {
     "name": "stdout",
     "output_type": "stream",
     "text": [
      "shudipta  YOUR ACOOUNT  25.00 CREATED SUCCESSFULLY! 35 \n",
      "shudipta  YOUR ACOOUNT 25 CREATED SUCCESSFULLY! 35.5 \n"
     ]
    }
   ],
   "source": [
    "print(\"%s YOUR ACOOUNT % .2f CREATED SUCCESSFULLY! %d \" %(name,age,weight))\n",
    "print(f\"{name} YOUR ACOOUNT {age} CREATED SUCCESSFULLY! {weight} \")"
   ]
  },
  {
   "cell_type": "code",
   "execution_count": 19,
   "metadata": {},
   "outputs": [
    {
     "name": "stdout",
     "output_type": "stream",
     "text": [
      "\"book\" - austin\n"
     ]
    }
   ],
   "source": [
    "print('\"book\" - austin')"
   ]
  },
  {
   "cell_type": "code",
   "execution_count": 8,
   "metadata": {},
   "outputs": [
    {
     "name": "stdout",
     "output_type": "stream",
     "text": [
      "'Book' -\n",
      " Austin\t hhhhh \t welcome\n"
     ]
    }
   ],
   "source": [
    "print(\"'Book' -\\n Austin\", end = '\\t hhhhh ')\n",
    "print('\\t welcome')"
   ]
  },
  {
   "cell_type": "code",
   "execution_count": 18,
   "metadata": {},
   "outputs": [
    {
     "data": {
      "text/plain": [
       "1"
      ]
     },
     "execution_count": 18,
     "metadata": {},
     "output_type": "execute_result"
    }
   ],
   "source": [
    "int(6 // 4)"
   ]
  },
  {
   "cell_type": "markdown",
   "metadata": {},
   "source": [
    "## Operator"
   ]
  },
  {
   "cell_type": "code",
   "execution_count": 23,
   "metadata": {},
   "outputs": [
    {
     "data": {
      "text/plain": [
       "False"
      ]
     },
     "execution_count": 23,
     "metadata": {},
     "output_type": "execute_result"
    }
   ],
   "source": [
    "2 != 2\n",
    "2 != 5\n",
    "2 <= 5"
   ]
  },
  {
   "cell_type": "code",
   "execution_count": 34,
   "metadata": {},
   "outputs": [
    {
     "data": {
      "text/plain": [
       "False"
      ]
     },
     "execution_count": 34,
     "metadata": {},
     "output_type": "execute_result"
    }
   ],
   "source": [
    "True and True\n",
    "False and False\n",
    "True and False"
   ]
  },
  {
   "cell_type": "code",
   "execution_count": 37,
   "metadata": {},
   "outputs": [
    {
     "data": {
      "text/plain": [
       "False"
      ]
     },
     "execution_count": 37,
     "metadata": {},
     "output_type": "execute_result"
    }
   ],
   "source": [
    "not False\n",
    "not True"
   ]
  },
  {
   "cell_type": "code",
   "execution_count": null,
   "metadata": {},
   "outputs": [],
   "source": [
    "# Bitwise Operator"
   ]
  },
  {
   "cell_type": "code",
   "execution_count": 1,
   "metadata": {},
   "outputs": [
    {
     "data": {
      "text/plain": [
       "0"
      ]
     },
     "execution_count": 1,
     "metadata": {},
     "output_type": "execute_result"
    }
   ],
   "source": [
    "5 & 2"
   ]
  },
  {
   "cell_type": "code",
   "execution_count": 2,
   "metadata": {},
   "outputs": [
    {
     "data": {
      "text/plain": [
       "7"
      ]
     },
     "execution_count": 2,
     "metadata": {},
     "output_type": "execute_result"
    }
   ],
   "source": [
    "5 | 2"
   ]
  },
  {
   "cell_type": "code",
   "execution_count": 1,
   "metadata": {},
   "outputs": [
    {
     "data": {
      "text/plain": [
       "7"
      ]
     },
     "execution_count": 1,
     "metadata": {},
     "output_type": "execute_result"
    }
   ],
   "source": [
    "3 | 5"
   ]
  },
  {
   "cell_type": "code",
   "execution_count": 2,
   "metadata": {},
   "outputs": [
    {
     "data": {
      "text/plain": [
       "1"
      ]
     },
     "execution_count": 2,
     "metadata": {},
     "output_type": "execute_result"
    }
   ],
   "source": [
    "3 & 5"
   ]
  },
  {
   "cell_type": "code",
   "execution_count": 3,
   "metadata": {},
   "outputs": [
    {
     "data": {
      "text/plain": [
       "-6"
      ]
     },
     "execution_count": 3,
     "metadata": {},
     "output_type": "execute_result"
    }
   ],
   "source": [
    "# 8 4 2 1\n",
    "# 0 0 1 1\n",
    "# 0 1 0 1\n",
    "~5"
   ]
  },
  {
   "cell_type": "code",
   "execution_count": null,
   "metadata": {},
   "outputs": [],
   "source": [
    "# assienment oparetor"
   ]
  },
  {
   "cell_type": "code",
   "execution_count": 12,
   "metadata": {},
   "outputs": [
    {
     "data": {
      "text/plain": [
       "1"
      ]
     },
     "execution_count": 12,
     "metadata": {},
     "output_type": "execute_result"
    }
   ],
   "source": [
    "num = 5\n",
    "num += 2\n",
    "num -= 3\n",
    "num *= 4\n",
    "num **= 2\n",
    "\n",
    "\n",
    "num = 5\n",
    "num //=4\n",
    "num"
   ]
  },
  {
   "cell_type": "code",
   "execution_count": 1,
   "metadata": {},
   "outputs": [
    {
     "data": {
      "text/plain": [
       "0"
      ]
     },
     "execution_count": 1,
     "metadata": {},
     "output_type": "execute_result"
    }
   ],
   "source": [
    "5 and 2"
   ]
  },
  {
   "cell_type": "code",
   "execution_count": 3,
   "metadata": {},
   "outputs": [
    {
     "name": "stdout",
     "output_type": "stream",
     "text": [
      "10\n",
      "2\n",
      "24\n",
      "1.5\n"
     ]
    }
   ],
   "source": [
    "num1 = int(input(\"Enter your 1st number :\"))\n",
    "num2 = int(input(\"Enter your 2nd number :\"))\n",
    "addition = num1 + num2\n",
    "substraction = num1 - num2\n",
    "multipy = num1 * num2\n",
    "divison = num1 / num2\n",
    "square = num1 ** num2\n",
    "modelus = num1 % num2\n",
    "print(addition)\n",
    "print(substraction)\n",
    "print(multipy)\n",
    "print(divison)\n",
    " \n",
    " "
   ]
  },
  {
   "cell_type": "code",
   "execution_count": 2,
   "metadata": {},
   "outputs": [
    {
     "data": {
      "text/plain": [
       "True"
      ]
     },
     "execution_count": 2,
     "metadata": {},
     "output_type": "execute_result"
    }
   ],
   "source": [
    "True or False"
   ]
  },
  {
   "cell_type": "code",
   "execution_count": 1,
   "metadata": {},
   "outputs": [
    {
     "data": {
      "text/plain": [
       "5"
      ]
     },
     "execution_count": 1,
     "metadata": {},
     "output_type": "execute_result"
    }
   ],
   "source": [
    "5 |5"
   ]
  },
  {
   "cell_type": "code",
   "execution_count": 3,
   "metadata": {},
   "outputs": [
    {
     "data": {
      "text/plain": [
       "5"
      ]
     },
     "execution_count": 3,
     "metadata": {},
     "output_type": "execute_result"
    }
   ],
   "source": [
    "5 or 2"
   ]
  },
  {
   "cell_type": "code",
   "execution_count": 2,
   "metadata": {},
   "outputs": [
    {
     "data": {
      "text/plain": [
       "True"
      ]
     },
     "execution_count": 2,
     "metadata": {},
     "output_type": "execute_result"
    }
   ],
   "source": [
    "c = [4,5,6,9,9,6,96,9,6,85,2,'student',True]\n",
    "c[12]"
   ]
  },
  {
   "cell_type": "code",
   "execution_count": 11,
   "metadata": {},
   "outputs": [
    {
     "data": {
      "text/plain": [
       "[4, 9, 6, True]"
      ]
     },
     "execution_count": 11,
     "metadata": {},
     "output_type": "execute_result"
    }
   ],
   "source": [
    "len(c)\n",
    "c [0:5]\n",
    "c[:13]\n",
    "c[::4]"
   ]
  },
  {
   "cell_type": "code",
   "execution_count": 15,
   "metadata": {},
   "outputs": [
    {
     "data": {
      "text/plain": [
       "[9, 8, 7, 6, 5, 4, 3, 2]"
      ]
     },
     "execution_count": 15,
     "metadata": {},
     "output_type": "execute_result"
    }
   ],
   "source": [
    "p = [2,3,4,5,6,7,8,9]\n",
    "p[:]\n",
    "p[::4]\n",
    "p[::-1]"
   ]
  },
  {
   "cell_type": "code",
   "execution_count": 13,
   "metadata": {},
   "outputs": [
    {
     "data": {
      "text/plain": [
       "'o'"
      ]
     },
     "execution_count": 13,
     "metadata": {},
     "output_type": "execute_result"
    }
   ],
   "source": [
    "'python'[4]"
   ]
  },
  {
   "cell_type": "code",
   "execution_count": 23,
   "metadata": {},
   "outputs": [
    {
     "data": {
      "text/plain": [
       "[2, 3, 4, 's', 6, 7, 8, 9, 45, 45, 45, 56]"
      ]
     },
     "execution_count": 23,
     "metadata": {},
     "output_type": "execute_result"
    }
   ],
   "source": [
    "p[3]='s'\n",
    "p\n",
    "p.append(56)\n",
    "p"
   ]
  },
  {
   "cell_type": "code",
   "execution_count": 45,
   "metadata": {},
   "outputs": [
    {
     "data": {
      "text/plain": [
       "[2, 3, 4, 5, 5, 6, 7, 9, 65, 85]"
      ]
     },
     "execution_count": 45,
     "metadata": {},
     "output_type": "execute_result"
    }
   ],
   "source": [
    "m = [2,3,4,5,6,6,7,8,9,10]\n",
    "m.append(65)\n",
    "m.insert(3,85)\n",
    "#m.extend(p)\n",
    "m = m + [5]\n",
    "m.remove(8)\n",
    "#m.pop(-3)\n",
    "m.index(65)\n",
    "m.count(5)\n",
    "m.sort(reverse=False)\n",
    "m.pop(-3)\n",
    "m"
   ]
  },
  {
   "cell_type": "code",
   "execution_count": 48,
   "metadata": {},
   "outputs": [
    {
     "data": {
      "text/plain": [
       "(1, 5, 5, 4, 8, 7, 98)"
      ]
     },
     "execution_count": 48,
     "metadata": {},
     "output_type": "execute_result"
    }
   ],
   "source": [
    "k = (1,5,5,4,8,7,98)\n",
    "n = tuple(k)\n",
    "n "
   ]
  },
  {
   "cell_type": "code",
   "execution_count": 60,
   "metadata": {},
   "outputs": [
    {
     "data": {
      "text/plain": [
       "(2, 3, 4, 5, 6, 6, 7, 7, 8, 9)"
      ]
     },
     "execution_count": 60,
     "metadata": {},
     "output_type": "execute_result"
    }
   ],
   "source": [
    "num = (2,3,4,5,6,6,7,7,8,9)\n",
    "num[:]\n",
    " "
   ]
  },
  {
   "cell_type": "code",
   "execution_count": 77,
   "metadata": {},
   "outputs": [
    {
     "data": {
      "text/plain": [
       "True"
      ]
     },
     "execution_count": 77,
     "metadata": {},
     "output_type": "execute_result"
    }
   ],
   "source": [
    "s = {2,3,4,5,6,6,7,7,8,9}\n",
    "s.add(45)\n",
    "s2 = {1,5,6}\n",
    "s2.difference(s)\n",
    "s2.union(s)\n",
    "s.intersection(s2)\n",
    "s2.pop()\n",
    "s2.update({2,3,4})\n",
    "s.difference_update(s2)\n",
    "s.symmetric_difference(s2)\n",
    "{1,2,3,4}.issuperset({3,4,})"
   ]
  },
  {
   "cell_type": "code",
   "execution_count": 103,
   "metadata": {},
   "outputs": [
    {
     "data": {
      "text/plain": [
       "{11: None, 12: None, 13: None}"
      ]
     },
     "execution_count": 103,
     "metadata": {},
     "output_type": "execute_result"
    }
   ],
   "source": [
    "#dictationary\n",
    "d = {1:'student1', 2:'student2',\"AvgAge\":25}\n",
    "type(d)\n",
    "d.keys(),d.values(),d.items()\n",
    "d[2]\n",
    "d[1]= 'girl'\n",
    "#print(d.get(\"AvgAges\"))\n",
    "d.pop(1)\n",
    "d\n",
    "#add\n",
    "d[3]='student3'\n",
    "d\n",
    "d.update({4:[1,2,3]})\n",
    "d.popitem()\n",
    "d.setdefault(5,'student5')\n",
    "d1 = d.fromkeys([11,12,13])\n",
    "d1"
   ]
  },
  {
   "cell_type": "code",
   "execution_count": 1,
   "metadata": {},
   "outputs": [],
   "source": [
    "class Human:\n",
    "    #featured\n",
    "    \n",
    "    eyes =2\n",
    "    #Restrictated variables\n",
    "    __hand = 2 \n",
    "    def __init__(self,name):\n",
    "        self.name = name\n",
    "        self.__ph = '232326554779'\n",
    "        print(\"instalized\")\n",
    "    #behavouir\n",
    "    def speaking(self):\n",
    "        return f\"{self.name} Talking\"\n",
    "    def getEyes(self):\n",
    "        return __class__.eyes\n",
    "    @property\n",
    "    def PH(self):\n",
    "        return self.__ph \n",
    "    @classmethod\n",
    "    def greet(cls):\n",
    "        print(f\"grettings!{cls.eyes}\")\n",
    "    "
   ]
  },
  {
   "cell_type": "code",
   "execution_count": 2,
   "metadata": {},
   "outputs": [
    {
     "name": "stdout",
     "output_type": "stream",
     "text": [
      "instalized\n",
      "grettings!2\n"
     ]
    }
   ],
   "source": [
    "Human('name').greet()"
   ]
  },
  {
   "cell_type": "code",
   "execution_count": 5,
   "metadata": {},
   "outputs": [
    {
     "name": "stdout",
     "output_type": "stream",
     "text": [
      "instalized\n"
     ]
    },
    {
     "ename": "AttributeError",
     "evalue": "'Human' object has no attribute 'hand'",
     "output_type": "error",
     "traceback": [
      "\u001b[1;31m---------------------------------------------------------------------------\u001b[0m",
      "\u001b[1;31mAttributeError\u001b[0m                            Traceback (most recent call last)",
      "\u001b[1;32me:\\python\\code-of-python\\programme.ipynb Cell 43\u001b[0m in \u001b[0;36m<cell line: 4>\u001b[1;34m()\u001b[0m\n\u001b[0;32m      <a href='vscode-notebook-cell:/e%3A/python/code-of-python/programme.ipynb#ch0000042?line=1'>2</a>\u001b[0m Jhon \u001b[39m=\u001b[39m Human(\u001b[39m\"\u001b[39m\u001b[39mJhon  the don\u001b[39m\u001b[39m\"\u001b[39m)\n\u001b[0;32m      <a href='vscode-notebook-cell:/e%3A/python/code-of-python/programme.ipynb#ch0000042?line=2'>3</a>\u001b[0m \u001b[39m#Accessing\u001b[39;00m\n\u001b[1;32m----> <a href='vscode-notebook-cell:/e%3A/python/code-of-python/programme.ipynb#ch0000042?line=3'>4</a>\u001b[0m Jhon\u001b[39m.\u001b[39meyes,Jhon\u001b[39m.\u001b[39;49mhand,Jhon\u001b[39m.\u001b[39mname\n\u001b[0;32m      <a href='vscode-notebook-cell:/e%3A/python/code-of-python/programme.ipynb#ch0000042?line=4'>5</a>\u001b[0m \u001b[39m#Accessing methods\u001b[39;00m\n\u001b[0;32m      <a href='vscode-notebook-cell:/e%3A/python/code-of-python/programme.ipynb#ch0000042?line=6'>7</a>\u001b[0m Jhon\u001b[39m.\u001b[39mspeaking(),Jhon\u001b[39m.\u001b[39mgetEyes()\n",
      "\u001b[1;31mAttributeError\u001b[0m: 'Human' object has no attribute 'hand'"
     ]
    }
   ],
   "source": [
    "# Object Creation\n",
    "Jhon = Human(\"Jhon  the don\")\n",
    "#Accessing\n",
    "Jhon.eyes,Jhon.hand,Jhon.name\n",
    "#Accessing methods\n",
    "\n",
    "Jhon.speaking(),Jhon.getEyes()\n",
    "#Jhon.ph\n",
    "Jhon.getPH()\n",
    "# updating\n",
    "Jhon.name = \"J\"\n",
    "Jhon.name\n",
    "Jhon.greet()\n",
    "Human('name').getPH()"
   ]
  },
  {
   "cell_type": "code",
   "execution_count": 6,
   "metadata": {},
   "outputs": [
    {
     "name": "stdout",
     "output_type": "stream",
     "text": [
      "instalized\n",
      "grettings!2\n"
     ]
    },
    {
     "data": {
      "text/plain": [
       "'232326554779'"
      ]
     },
     "execution_count": 6,
     "metadata": {},
     "output_type": "execute_result"
    }
   ],
   "source": [
    "Alxa = Human(\"Alxa with\")\n",
    "#Accessing\n",
    "Alxa.eyes,Alxa.name\n",
    "#Accessing methods\n",
    "\n",
    "Alxa.speaking(),Alxa.getEyes()\n",
    "Alxa.greet()\n",
    "Alxa.PH"
   ]
  },
  {
   "cell_type": "code",
   "execution_count": 7,
   "metadata": {},
   "outputs": [
    {
     "name": "stdout",
     "output_type": "stream",
     "text": [
      "instalized\n",
      "grettings!2\n"
     ]
    },
    {
     "ename": "AttributeError",
     "evalue": "'male' object has no attribute 'getgender'",
     "output_type": "error",
     "traceback": [
      "\u001b[1;31m---------------------------------------------------------------------------\u001b[0m",
      "\u001b[1;31mAttributeError\u001b[0m                            Traceback (most recent call last)",
      "\u001b[1;32me:\\python\\code-of-python\\programme.ipynb Cell 45\u001b[0m in \u001b[0;36m<cell line: 6>\u001b[1;34m()\u001b[0m\n\u001b[0;32m      <a href='vscode-notebook-cell:/e%3A/python/code-of-python/programme.ipynb#ch0000044?line=3'>4</a>\u001b[0m Jhon \u001b[39m=\u001b[39m male(\u001b[39m'\u001b[39m\u001b[39mJhon\u001b[39m\u001b[39m'\u001b[39m)\n\u001b[0;32m      <a href='vscode-notebook-cell:/e%3A/python/code-of-python/programme.ipynb#ch0000044?line=4'>5</a>\u001b[0m Jhon\u001b[39m.\u001b[39mgetEyes(),Jhon\u001b[39m.\u001b[39mgreet()\n\u001b[1;32m----> <a href='vscode-notebook-cell:/e%3A/python/code-of-python/programme.ipynb#ch0000044?line=5'>6</a>\u001b[0m Jhon\u001b[39m.\u001b[39;49mgetgender()\n",
      "\u001b[1;31mAttributeError\u001b[0m: 'male' object has no attribute 'getgender'"
     ]
    }
   ],
   "source": [
    "class male(Human):\n",
    "    gender = 'Male'\n",
    "    pass\n",
    "Jhon = male('Jhon')\n",
    "Jhon.getEyes(),Jhon.greet()\n",
    "Jhon.getgender()"
   ]
  },
  {
   "cell_type": "code",
   "execution_count": 8,
   "metadata": {},
   "outputs": [
    {
     "name": "stdout",
     "output_type": "stream",
     "text": [
      "instalized\n",
      "grettings!2\n"
     ]
    },
    {
     "ename": "AttributeError",
     "evalue": "'super' object has no attribute 'getPH'",
     "output_type": "error",
     "traceback": [
      "\u001b[1;31m---------------------------------------------------------------------------\u001b[0m",
      "\u001b[1;31mAttributeError\u001b[0m                            Traceback (most recent call last)",
      "\u001b[1;32me:\\python\\code-of-python\\programme.ipynb Cell 46\u001b[0m in \u001b[0;36m<cell line: 9>\u001b[1;34m()\u001b[0m\n\u001b[0;32m      <a href='vscode-notebook-cell:/e%3A/python/code-of-python/programme.ipynb#ch0000045?line=6'>7</a>\u001b[0m John \u001b[39m=\u001b[39m Male(\u001b[39m'\u001b[39m\u001b[39mJhon\u001b[39m\u001b[39m'\u001b[39m)\n\u001b[0;32m      <a href='vscode-notebook-cell:/e%3A/python/code-of-python/programme.ipynb#ch0000045?line=7'>8</a>\u001b[0m Jhon\u001b[39m.\u001b[39mgetEyes(),Jhon\u001b[39m.\u001b[39mgreet()\n\u001b[1;32m----> <a href='vscode-notebook-cell:/e%3A/python/code-of-python/programme.ipynb#ch0000045?line=8'>9</a>\u001b[0m Male\u001b[39m.\u001b[39;49mgetGender(Male)\n",
      "\u001b[1;32me:\\python\\code-of-python\\programme.ipynb Cell 46\u001b[0m in \u001b[0;36mMale.getGender\u001b[1;34m(self)\u001b[0m\n\u001b[0;32m      <a href='vscode-notebook-cell:/e%3A/python/code-of-python/programme.ipynb#ch0000045?line=3'>4</a>\u001b[0m \u001b[39mdef\u001b[39;00m \u001b[39mgetGender\u001b[39m(\u001b[39mself\u001b[39m):\n\u001b[1;32m----> <a href='vscode-notebook-cell:/e%3A/python/code-of-python/programme.ipynb#ch0000045?line=4'>5</a>\u001b[0m     \u001b[39mreturn\u001b[39;00m \u001b[39mf\u001b[39m\u001b[39m\"\u001b[39m\u001b[39m{\u001b[39;00m\u001b[39m__class__\u001b[39m\u001b[39m.\u001b[39m__Gender\u001b[39m}\u001b[39;00m\u001b[39m\"\u001b[39m,\u001b[39msuper\u001b[39;49m()\u001b[39m.\u001b[39;49mgetPH()\n",
      "\u001b[1;31mAttributeError\u001b[0m: 'super' object has no attribute 'getPH'"
     ]
    }
   ],
   "source": [
    "class Male(Human):\n",
    "    __Gender = 'Male'\n",
    "    \n",
    "    def getGender(self):\n",
    "        return f\"{__class__.__Gender}\",super().getPH()\n",
    "    pass\n",
    "John = Male('Jhon')\n",
    "Jhon.getEyes(),Jhon.greet()\n",
    "Male.getGender(Male)"
   ]
  },
  {
   "cell_type": "code",
   "execution_count": 9,
   "metadata": {},
   "outputs": [],
   "source": [
    "class Human:\n",
    "    #featured\n",
    "    \n",
    "    eyes =2\n",
    "    #Restrictated variables\n",
    "    __hand = 2 \n",
    "    def __init__(self,name):\n",
    "        self.name = name\n",
    "        self.__ph = '232326554779'\n",
    "        print(\"instalized\")\n",
    "    #behavouir\n",
    "    def speaking(self):\n",
    "        return f\"{self.name} Talking\"\n",
    "    def getEyes(self):\n",
    "        return __class__.eyes\n",
    "    @property\n",
    "    def PH(self):\n",
    "        print('accessing')\n",
    "        return self.__ph \n",
    "    @PH.setter\n",
    "    def PH(self,val):\n",
    "        print('updateinng....')\n",
    "        self.__ph = val\n",
    "    @PH.deleter\n",
    "    def PH(self):\n",
    "        print('deleteing....')\n",
    "        del self.__ph \n",
    "              \n",
    "    @classmethod\n",
    "    def greet(cls):\n",
    "        print(f\"grettings!{cls.eyes}\")\n",
    "    \n",
    "    @staticmethod\n",
    "    def add(a,b):\n",
    "        return a+b"
   ]
  },
  {
   "cell_type": "code",
   "execution_count": 10,
   "metadata": {},
   "outputs": [
    {
     "name": "stdout",
     "output_type": "stream",
     "text": [
      "instalized\n",
      "updateinng....\n",
      "accessing\n",
      "deleteing....\n"
     ]
    },
    {
     "data": {
      "text/plain": [
       "7"
      ]
     },
     "execution_count": 10,
     "metadata": {},
     "output_type": "execute_result"
    }
   ],
   "source": [
    "Alxa = Human(\"Alxa with\")\n",
    "Alxa.PH = 45\n",
    "Alxa.PH\n",
    "del Alxa.PH\n",
    "Human.add(2,5)"
   ]
  },
  {
   "cell_type": "code",
   "execution_count": 11,
   "metadata": {},
   "outputs": [],
   "source": [
    "class Male(Human):\n",
    "    __gender = 'Male'\n",
    "    \n",
    "    def __init__(self, name:str, age:int):\n",
    "        super().__init__(name)\n",
    "        self.age = age\n",
    "    \n",
    "    def getGender(self):\n",
    "        return f\"{__class__.__gender}\", super().PH, super().eyes\n",
    "        \n",
    "class Female(Human):\n",
    "    __gender = 'Female'\n",
    "    \n",
    "    def __init__(self, name:str, age :int):\n",
    "        super().__init__(name)\n",
    "        self.age = age\n",
    "    \n",
    "    def getGender(self):\n",
    "        return f\"{__class__.__gender}\", super().PH,super().eyes "
   ]
  },
  {
   "cell_type": "code",
   "execution_count": 12,
   "metadata": {},
   "outputs": [
    {
     "name": "stdout",
     "output_type": "stream",
     "text": [
      "instalized\n",
      "grettings!2\n",
      "accessing\n"
     ]
    },
    {
     "data": {
      "text/plain": [
       "('Male', '232326554779', 2)"
      ]
     },
     "execution_count": 12,
     "metadata": {},
     "output_type": "execute_result"
    }
   ],
   "source": [
    "john = Male('John',24)\n",
    "john.getEyes(), Male.greet()\n",
    "john.getGender()"
   ]
  },
  {
   "cell_type": "code",
   "execution_count": 13,
   "metadata": {},
   "outputs": [],
   "source": [
    "class child(Male,Female):\n",
    "    def __init__(self, name: str, age: int,birthY :int):\n",
    "        super().__init__(name, age)\n",
    "        self.birthY = birthY\n",
    "        \n",
    "    def getGender(self):\n",
    "        return f\"{__class__.__gender}\", super().PH,super().eyes "
   ]
  },
  {
   "cell_type": "code",
   "execution_count": 14,
   "metadata": {},
   "outputs": [
    {
     "ename": "TypeError",
     "evalue": "Female.__init__() missing 1 required positional argument: 'age'",
     "output_type": "error",
     "traceback": [
      "\u001b[1;31m---------------------------------------------------------------------------\u001b[0m",
      "\u001b[1;31mTypeError\u001b[0m                                 Traceback (most recent call last)",
      "\u001b[1;32me:\\python\\code-of-python\\programme.ipynb Cell 52\u001b[0m in \u001b[0;36m<cell line: 1>\u001b[1;34m()\u001b[0m\n\u001b[1;32m----> <a href='vscode-notebook-cell:/e%3A/python/code-of-python/programme.ipynb#ch0000051?line=0'>1</a>\u001b[0m jony \u001b[39m=\u001b[39m child(\u001b[39m'\u001b[39;49m\u001b[39mjony\u001b[39;49m\u001b[39m'\u001b[39;49m,\u001b[39m1\u001b[39;49m ,\u001b[39m2021\u001b[39;49m)\n",
      "\u001b[1;32me:\\python\\code-of-python\\programme.ipynb Cell 52\u001b[0m in \u001b[0;36mchild.__init__\u001b[1;34m(self, name, age, birthY)\u001b[0m\n\u001b[0;32m      <a href='vscode-notebook-cell:/e%3A/python/code-of-python/programme.ipynb#ch0000051?line=1'>2</a>\u001b[0m \u001b[39mdef\u001b[39;00m \u001b[39m__init__\u001b[39m(\u001b[39mself\u001b[39m, name: \u001b[39mstr\u001b[39m, age: \u001b[39mint\u001b[39m,birthY :\u001b[39mint\u001b[39m):\n\u001b[1;32m----> <a href='vscode-notebook-cell:/e%3A/python/code-of-python/programme.ipynb#ch0000051?line=2'>3</a>\u001b[0m     \u001b[39msuper\u001b[39;49m()\u001b[39m.\u001b[39;49m\u001b[39m__init__\u001b[39;49m(name, age)\n\u001b[0;32m      <a href='vscode-notebook-cell:/e%3A/python/code-of-python/programme.ipynb#ch0000051?line=3'>4</a>\u001b[0m     \u001b[39mself\u001b[39m\u001b[39m.\u001b[39mbirthY \u001b[39m=\u001b[39m birthY\n",
      "\u001b[1;32me:\\python\\code-of-python\\programme.ipynb Cell 52\u001b[0m in \u001b[0;36mMale.__init__\u001b[1;34m(self, name, age)\u001b[0m\n\u001b[0;32m      <a href='vscode-notebook-cell:/e%3A/python/code-of-python/programme.ipynb#ch0000051?line=3'>4</a>\u001b[0m \u001b[39mdef\u001b[39;00m \u001b[39m__init__\u001b[39m(\u001b[39mself\u001b[39m, name:\u001b[39mstr\u001b[39m, age:\u001b[39mint\u001b[39m):\n\u001b[1;32m----> <a href='vscode-notebook-cell:/e%3A/python/code-of-python/programme.ipynb#ch0000051?line=4'>5</a>\u001b[0m     \u001b[39msuper\u001b[39;49m()\u001b[39m.\u001b[39;49m\u001b[39m__init__\u001b[39;49m(name)\n\u001b[0;32m      <a href='vscode-notebook-cell:/e%3A/python/code-of-python/programme.ipynb#ch0000051?line=5'>6</a>\u001b[0m     \u001b[39mself\u001b[39m\u001b[39m.\u001b[39mage \u001b[39m=\u001b[39m age\n",
      "\u001b[1;31mTypeError\u001b[0m: Female.__init__() missing 1 required positional argument: 'age'"
     ]
    }
   ],
   "source": [
    "jony = child('jony',1 ,2021)"
   ]
  },
  {
   "cell_type": "markdown",
   "metadata": {},
   "source": [
    "Polymophism\n"
   ]
  },
  {
   "cell_type": "code",
   "execution_count": 15,
   "metadata": {},
   "outputs": [
    {
     "data": {
      "text/plain": [
       "10"
      ]
     },
     "execution_count": 15,
     "metadata": {},
     "output_type": "execute_result"
    }
   ],
   "source": [
    "def add (a,b):\n",
    "    return a+b\n",
    "add(2,3)\n",
    "def add(a,b,c):\n",
    "    return a+b+c\n",
    "add(2,3,5)"
   ]
  },
  {
   "cell_type": "code",
   "execution_count": 16,
   "metadata": {},
   "outputs": [
    {
     "data": {
      "text/plain": [
       "9"
      ]
     },
     "execution_count": 16,
     "metadata": {},
     "output_type": "execute_result"
    }
   ],
   "source": [
    "def add(a,b,c=0):\n",
    "    return a+b+c\n",
    "add(2,3,4)"
   ]
  },
  {
   "cell_type": "code",
   "execution_count": 17,
   "metadata": {},
   "outputs": [],
   "source": [
    "class Add2Num:\n",
    "    def __init__(self,num1,num2):\n",
    "        self.num1 = num1\n",
    "        self.num2 = num2\n",
    "    def Sum(self):\n",
    "        return self.num1+self.num2\n",
    "class Add3Num(Add2Num):\n",
    "    def __init__(self,num1,num2,num3):\n",
    "        super().__init__(num1,num2)\n",
    "        self.num3 = num3\n",
    "    def Sum(self):\n",
    "        return self.num1+self.num2+self.num3\n",
    "        "
   ]
  },
  {
   "cell_type": "code",
   "execution_count": 18,
   "metadata": {},
   "outputs": [
    {
     "data": {
      "text/plain": [
       "10"
      ]
     },
     "execution_count": 18,
     "metadata": {},
     "output_type": "execute_result"
    }
   ],
   "source": [
    "obj = Add3Num(2,3,5)\n",
    "obj.Sum()"
   ]
  },
  {
   "cell_type": "code",
   "execution_count": 19,
   "metadata": {},
   "outputs": [],
   "source": [
    "class Facebook_Account:\n",
    "    def __init__(self, Name:str, age:int):\n",
    "        self.name = Name\n",
    "        self.age = age\n",
    "\n",
    "    # Special Function\n",
    "    def __gt__(self, other):\n",
    "        return self.age > other.age\n",
    "    \n",
    "    def __eq__(self, other):\n",
    "        return (self.name == other.name)  and (self.age == other.age)\n",
    "    \n",
    "    def __add__(self,other):\n",
    "        return self.age +other.age\n",
    "    @classmethod\n",
    "    def Facebook_Account(cls,info :str):\n",
    "        info = info.split('-')\n",
    "        return cls(info[0],int(info[1]))"
   ]
  },
  {
   "cell_type": "code",
   "execution_count": 20,
   "metadata": {},
   "outputs": [
    {
     "data": {
      "text/plain": [
       "(True, False, 51)"
      ]
     },
     "execution_count": 20,
     "metadata": {},
     "output_type": "execute_result"
    }
   ],
   "source": [
    "dipta = Facebook_Account(\"dipta\",25)\n",
    "shuvro = Facebook_Account(\"dipta\",26)\n",
    "\n",
    " \n",
    "dipta < shuvro , dipta==shuvro ,dipta +shuvro"
   ]
  },
  {
   "cell_type": "code",
   "execution_count": 21,
   "metadata": {},
   "outputs": [],
   "source": [
    "obj =Facebook_Account.Facebook_Account('dipta-24')"
   ]
  },
  {
   "cell_type": "code",
   "execution_count": 22,
   "metadata": {},
   "outputs": [
    {
     "data": {
      "text/plain": [
       "('dipta', 24)"
      ]
     },
     "execution_count": 22,
     "metadata": {},
     "output_type": "execute_result"
    }
   ],
   "source": [
    "obj.name ,obj .age"
   ]
  },
  {
   "cell_type": "markdown",
   "metadata": {},
   "source": [
    "File Handeling"
   ]
  },
  {
   "cell_type": "code",
   "execution_count": 66,
   "metadata": {},
   "outputs": [
    {
     "name": "stdout",
     "output_type": "stream",
     "text": [
      "False\n"
     ]
    },
    {
     "data": {
      "text/plain": [
       "True"
      ]
     },
     "execution_count": 66,
     "metadata": {},
     "output_type": "execute_result"
    }
   ],
   "source": [
    " #file creation an writing file\n",
    "f = open('file.txt',mode = 'wb'  )\n",
    "f.writable()\n",
    "f.write(b'shudipta')\n",
    "f.write(b'paul')\n",
    "f.writelines([b'1',b'2',b'3',b'4'])\n",
    "print(f.closed)\n",
    "f.close()\n",
    "f.closed"
   ]
  },
  {
   "cell_type": "code",
   "execution_count": 61,
   "metadata": {},
   "outputs": [
    {
     "data": {
      "text/plain": [
       "True"
      ]
     },
     "execution_count": 61,
     "metadata": {},
     "output_type": "execute_result"
    }
   ],
   "source": [
    "f = open('file.txt',mode = 'a',   )\n",
    "f.write('\\nshuvro')\n",
    "f.write('\\n dipta')\n",
    "f.close()\n",
    "f.closed"
   ]
  },
  {
   "cell_type": "code",
   "execution_count": 55,
   "metadata": {},
   "outputs": [],
   "source": [
    "f = open('file1.txt', mode = 'x')\n",
    "f.write('\\n data')\n",
    "f.close()"
   ]
  },
  {
   "cell_type": "code",
   "execution_count": 78,
   "metadata": {},
   "outputs": [
    {
     "name": "stdout",
     "output_type": "stream",
     "text": [
      "True\n",
      "5\n",
      "ptapaul1234uhhiu\n",
      "21\n"
     ]
    }
   ],
   "source": [
    "#reading File\n",
    "f = open('file.txt',mode = 'r')\n",
    "print(f.readable())\n",
    "#print(f.read())\n",
    "#print(f.readlines(10))\n",
    "print(f.seek(5))\n",
    "print(f.read())\n",
    "print(f.tell())\n",
    "f.close()\n"
   ]
  },
  {
   "cell_type": "code",
   "execution_count": 9,
   "metadata": {},
   "outputs": [
    {
     "name": "stdout",
     "output_type": "stream",
     "text": [
      "True\n",
      "dipdipdipdip\n",
      "\n",
      " \n",
      "\n"
     ]
    }
   ],
   "source": [
    "f = open('file.txt', mode = 'r+')\n",
    "print(f.readable())\n",
    "print(f.read())\n",
    "f.write('dip')\n",
    "print('\\n',f.read())\n",
    "print(f.read())\n",
    "f.close()\n"
   ]
  },
  {
   "cell_type": "code",
   "execution_count": 14,
   "metadata": {},
   "outputs": [
    {
     "name": "stdout",
     "output_type": "stream",
     "text": [
      "4\n"
     ]
    },
    {
     "data": {
      "text/plain": [
       "True"
      ]
     },
     "execution_count": 14,
     "metadata": {},
     "output_type": "execute_result"
    }
   ],
   "source": [
    "#file opening with session\n",
    "with open ('file.txt',mode = 'a') as f:\n",
    "    print(f.write('paul'))\n",
    "f.closed"
   ]
  },
  {
   "cell_type": "code",
   "execution_count": 15,
   "metadata": {},
   "outputs": [],
   "source": [
    "import os"
   ]
  },
  {
   "cell_type": "code",
   "execution_count": 17,
   "metadata": {},
   "outputs": [
    {
     "data": {
      "text/plain": [
       "'e:\\\\python\\\\code-of-python'"
      ]
     },
     "execution_count": 17,
     "metadata": {},
     "output_type": "execute_result"
    }
   ],
   "source": [
    "os.getcwd()"
   ]
  },
  {
   "cell_type": "code",
   "execution_count": 18,
   "metadata": {},
   "outputs": [],
   "source": [
    "os.chdir('e:\\\\python')"
   ]
  },
  {
   "cell_type": "code",
   "execution_count": 19,
   "metadata": {},
   "outputs": [
    {
     "data": {
      "text/plain": [
       "'e:\\\\python'"
      ]
     },
     "execution_count": 19,
     "metadata": {},
     "output_type": "execute_result"
    }
   ],
   "source": [
    "os.getcwd()"
   ]
  },
  {
   "cell_type": "code",
   "execution_count": 20,
   "metadata": {},
   "outputs": [],
   "source": [
    "os.chdir('e:\\\\python\\\\code-of-python')"
   ]
  },
  {
   "cell_type": "code",
   "execution_count": 21,
   "metadata": {},
   "outputs": [
    {
     "data": {
      "text/plain": [
       "'e:\\\\python\\\\code-of-python'"
      ]
     },
     "execution_count": 21,
     "metadata": {},
     "output_type": "execute_result"
    }
   ],
   "source": [
    "os.getcwd()"
   ]
  },
  {
   "cell_type": "code",
   "execution_count": 23,
   "metadata": {},
   "outputs": [
    {
     "ename": "FileExistsError",
     "evalue": "[WinError 183] Cannot create a file when that file already exists: 'New'",
     "output_type": "error",
     "traceback": [
      "\u001b[1;31m---------------------------------------------------------------------------\u001b[0m",
      "\u001b[1;31mFileExistsError\u001b[0m                           Traceback (most recent call last)",
      "\u001b[1;32me:\\python\\code-of-python\\programme.ipynb Cell 75\u001b[0m in \u001b[0;36m<cell line: 1>\u001b[1;34m()\u001b[0m\n\u001b[1;32m----> <a href='vscode-notebook-cell:/e%3A/python/code-of-python/programme.ipynb#ch0000074?line=0'>1</a>\u001b[0m os\u001b[39m.\u001b[39;49mmkdir(\u001b[39m'\u001b[39;49m\u001b[39mNew\u001b[39;49m\u001b[39m'\u001b[39;49m)\n",
      "\u001b[1;31mFileExistsError\u001b[0m: [WinError 183] Cannot create a file when that file already exists: 'New'"
     ]
    }
   ],
   "source": [
    "os.mkdir('New')\n"
   ]
  },
  {
   "cell_type": "code",
   "execution_count": 24,
   "metadata": {},
   "outputs": [],
   "source": [
    "os.mkdir('New\\\\new1')"
   ]
  },
  {
   "cell_type": "code",
   "execution_count": 25,
   "metadata": {},
   "outputs": [],
   "source": [
    "os.makedirs('New1\\\\new2')"
   ]
  },
  {
   "cell_type": "code",
   "execution_count": 26,
   "metadata": {},
   "outputs": [],
   "source": [
    "os.rename('New1','New11')"
   ]
  },
  {
   "cell_type": "code",
   "execution_count": 27,
   "metadata": {},
   "outputs": [],
   "source": [
    "os.remove('file.txt')"
   ]
  },
  {
   "cell_type": "code",
   "execution_count": 31,
   "metadata": {},
   "outputs": [],
   "source": [
    "os.removedirs('New11\\\\new2')"
   ]
  },
  {
   "cell_type": "code",
   "execution_count": 32,
   "metadata": {},
   "outputs": [
    {
     "data": {
      "text/plain": [
       "['.git',\n",
       " '.vscode',\n",
       " 'file1.txt',\n",
       " 'New',\n",
       " 'programme.ipynb',\n",
       " 'programme.py',\n",
       " 'python.py',\n",
       " 'README.md',\n",
       " 'task_shudipta.ipynb']"
      ]
     },
     "execution_count": 32,
     "metadata": {},
     "output_type": "execute_result"
    }
   ],
   "source": [
    "os.listdir()"
   ]
  },
  {
   "cell_type": "code",
   "execution_count": 39,
   "metadata": {},
   "outputs": [
    {
     "name": "stdout",
     "output_type": "stream",
     "text": [
      "path: . dirs: ['.git', '.vscode', 'New'] files: ['file1.txt', 'programme.ipynb', 'programme.py', 'python.py', 'README.md', 'task_shudipta.ipynb']\n",
      "path: .\\.git dirs: ['fsmonitor--daemon', 'hooks', 'info', 'logs', 'objects', 'refs'] files: ['COMMIT_EDITMSG', 'config', 'description', 'HEAD', 'index', 'packed-refs']\n",
      "path: .\\.git\\fsmonitor--daemon dirs: ['cookies'] files: []\n",
      "path: .\\.git\\fsmonitor--daemon\\cookies dirs: [] files: []\n",
      "path: .\\.git\\hooks dirs: [] files: ['applypatch-msg.sample', 'commit-msg.sample', 'fsmonitor-watchman.sample', 'post-update.sample', 'pre-applypatch.sample', 'pre-commit.sample', 'pre-merge-commit.sample', 'pre-push.sample', 'pre-rebase.sample', 'pre-receive.sample', 'prepare-commit-msg.sample', 'push-to-checkout.sample', 'update.sample']\n",
      "path: .\\.git\\info dirs: [] files: ['exclude']\n",
      "path: .\\.git\\logs dirs: ['refs'] files: ['HEAD']\n",
      "path: .\\.git\\logs\\refs dirs: ['heads', 'remotes'] files: []\n",
      "path: .\\.git\\logs\\refs\\heads dirs: [] files: ['main']\n",
      "path: .\\.git\\logs\\refs\\remotes dirs: ['origin'] files: []\n",
      "path: .\\.git\\logs\\refs\\remotes\\origin dirs: [] files: ['HEAD']\n",
      "path: .\\.git\\objects dirs: ['4f', '57', '99', 'info', 'pack'] files: []\n",
      "path: .\\.git\\objects\\4f dirs: [] files: ['862670394a80c00a0d02a5be10300503eaf799']\n",
      "path: .\\.git\\objects\\57 dirs: [] files: ['fcfb146fbee6480c614316b2113a0b41196e82']\n",
      "path: .\\.git\\objects\\99 dirs: [] files: ['236fc36186c606e727d2bb6df335dad239219d']\n",
      "path: .\\.git\\objects\\info dirs: [] files: []\n",
      "path: .\\.git\\objects\\pack dirs: [] files: ['pack-db9b899db7d762a861e88acd03ae73b3ebcee845.idx', 'pack-db9b899db7d762a861e88acd03ae73b3ebcee845.pack']\n",
      "path: .\\.git\\refs dirs: ['heads', 'remotes', 'tags'] files: []\n",
      "path: .\\.git\\refs\\heads dirs: [] files: ['main']\n",
      "path: .\\.git\\refs\\remotes dirs: ['origin'] files: []\n",
      "path: .\\.git\\refs\\remotes\\origin dirs: [] files: ['HEAD']\n",
      "path: .\\.git\\refs\\tags dirs: [] files: []\n",
      "path: .\\.vscode dirs: [] files: ['extensions.json', 'launch.json', 'settings.json']\n",
      "path: .\\New dirs: ['new1'] files: []\n",
      "path: .\\New\\new1 dirs: [] files: []\n"
     ]
    }
   ],
   "source": [
    "for p,d,f in os.walk('.'):\n",
    "    print('path:',p,'dirs:',d,'files:',f)"
   ]
  },
  {
   "cell_type": "code",
   "execution_count": 42,
   "metadata": {},
   "outputs": [
    {
     "name": "stdout",
     "output_type": "stream",
     "text": [
      "path: .\\New\\new1 dirs: [] files: []\n"
     ]
    }
   ],
   "source": [
    "os.walk('.')\n",
    "print('path:',p,'dirs:',d,'files:',f)"
   ]
  },
  {
   "cell_type": "code",
   "execution_count": 61,
   "metadata": {},
   "outputs": [],
   "source": [
    "data = [\n",
    "    [1,'Jhon','cse'],\n",
    "    [2,'alexa','cse']\n",
    "]\n",
    "header = ['Roll','Name','Brance']"
   ]
  },
  {
   "cell_type": "code",
   "execution_count": 66,
   "metadata": {},
   "outputs": [],
   "source": [
    "import csv\n",
    "with open ('student.csv' ,mode = 'w' ,newline='') as f:\n",
    "    writer = csv.writer(f, delimiter='\\t')\n",
    "    writer.writerow(header)\n",
    "    writer.writerows(data)\n",
    "    \n",
    "    \n",
    "    "
   ]
  },
  {
   "cell_type": "code",
   "execution_count": 68,
   "metadata": {},
   "outputs": [
    {
     "name": "stdout",
     "output_type": "stream",
     "text": [
      "['Roll', 'Name', 'Brance']\n",
      "['1', 'Jhon', 'cse']\n",
      "['2', 'alexa', 'cse']\n"
     ]
    }
   ],
   "source": [
    "import csv\n",
    "with open ('student.csv' ,mode = 'r' ,newline='') as f:\n",
    "    reader = csv.reader(f,delimiter='\\t')\n",
    "    for row in reader:\n",
    "        print(row)\n",
    "    "
   ]
  },
  {
   "cell_type": "code",
   "execution_count": null,
   "metadata": {},
   "outputs": [],
   "source": []
  }
 ],
 "metadata": {
  "kernelspec": {
   "display_name": "Python 3.10.5 64-bit (windows store)",
   "language": "python",
   "name": "python3"
  },
  "language_info": {
   "codemirror_mode": {
    "name": "ipython",
    "version": 3
   },
   "file_extension": ".py",
   "mimetype": "text/x-python",
   "name": "python",
   "nbconvert_exporter": "python",
   "pygments_lexer": "ipython3",
   "version": "3.10.5"
  },
  "orig_nbformat": 4,
  "vscode": {
   "interpreter": {
    "hash": "1d26997d3ace7aaf9b4a944c94932d14fe217acebc2d3dad730e88f90af60a8b"
   }
  }
 },
 "nbformat": 4,
 "nbformat_minor": 2
}
